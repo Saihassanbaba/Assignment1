{
 "cells": [
  {
   "cell_type": "code",
   "execution_count": 1,
   "id": "15052a83",
   "metadata": {},
   "outputs": [
    {
     "name": "stdout",
     "output_type": "stream",
     "text": [
      "Collecting snscrape\n",
      "  Downloading snscrape-0.5.0.20230113-py3-none-any.whl (69 kB)\n",
      "     ---------------------------------------- 69.2/69.2 kB 3.7 MB/s eta 0:00:00\n",
      "Collecting lxml\n",
      "  Downloading lxml-4.9.2-cp310-cp310-win_amd64.whl (3.8 MB)\n",
      "     ---------------------------------------- 3.8/3.8 MB 8.3 MB/s eta 0:00:00\n",
      "Collecting requests[socks]\n",
      "  Downloading requests-2.28.2-py3-none-any.whl (62 kB)\n",
      "     ---------------------------------------- 62.8/62.8 kB ? eta 0:00:00\n",
      "Requirement already satisfied: beautifulsoup4 in c:\\users\\sai hassan baba\\appdata\\local\\programs\\python\\python310\\lib\\site-packages (from snscrape) (4.11.1)\n",
      "Collecting filelock\n",
      "  Downloading filelock-3.9.0-py3-none-any.whl (9.7 kB)\n",
      "Requirement already satisfied: soupsieve>1.2 in c:\\users\\sai hassan baba\\appdata\\local\\programs\\python\\python310\\lib\\site-packages (from beautifulsoup4->snscrape) (2.3.2.post1)\n",
      "Collecting certifi>=2017.4.17\n",
      "  Downloading certifi-2022.12.7-py3-none-any.whl (155 kB)\n",
      "     -------------------------------------- 155.3/155.3 kB 9.7 MB/s eta 0:00:00\n",
      "Collecting charset-normalizer<4,>=2\n",
      "  Downloading charset_normalizer-3.0.1-cp310-cp310-win_amd64.whl (96 kB)\n",
      "     ---------------------------------------- 96.5/96.5 kB ? eta 0:00:00\n",
      "Requirement already satisfied: idna<4,>=2.5 in c:\\users\\sai hassan baba\\appdata\\local\\programs\\python\\python310\\lib\\site-packages (from requests[socks]->snscrape) (3.4)\n",
      "Collecting urllib3<1.27,>=1.21.1\n",
      "  Downloading urllib3-1.26.14-py2.py3-none-any.whl (140 kB)\n",
      "     -------------------------------------- 140.6/140.6 kB 4.2 MB/s eta 0:00:00\n",
      "Collecting PySocks!=1.5.7,>=1.5.6\n",
      "  Downloading PySocks-1.7.1-py3-none-any.whl (16 kB)\n",
      "Installing collected packages: charset-normalizer, urllib3, PySocks, lxml, filelock, certifi, requests, snscrape\n",
      "Successfully installed PySocks-1.7.1 certifi-2022.12.7 charset-normalizer-3.0.1 filelock-3.9.0 lxml-4.9.2 requests-2.28.2 snscrape-0.5.0.20230113 urllib3-1.26.14\n",
      "Note: you may need to restart the kernel to use updated packages.\n"
     ]
    },
    {
     "name": "stderr",
     "output_type": "stream",
     "text": [
      "\n",
      "[notice] A new release of pip available: 22.3 -> 22.3.1\n",
      "[notice] To update, run: python.exe -m pip install --upgrade pip\n"
     ]
    }
   ],
   "source": [
    "pip install snscrape"
   ]
  },
  {
   "cell_type": "code",
   "execution_count": 2,
   "id": "b5c1cc5e",
   "metadata": {
    "scrolled": false
   },
   "outputs": [
    {
     "name": "stdout",
     "output_type": "stream",
     "text": [
      "Please Enter the keyword for search :   Vaarahi\n",
      "Enter the number of tweets to be scrapped  :  100\n",
      "Enter from when :  2023-01-24\n",
      "Enter to when :  2023-01-26\n"
     ]
    },
    {
     "name": "stderr",
     "output_type": "stream",
     "text": [
      "C:\\Users\\Sai Hassan baba\\AppData\\Local\\Temp\\ipykernel_33212\\2469066415.py:16: FutureWarning: content is deprecated, use rawContent instead\n",
      "  tweets_data.append([tweets.date, tweets.id, tweets.content, tweets.user.username, tweets.replyCount, tweets.retweetCount, tweets.lang.upper(), tweets.source, tweets.likeCount])\n"
     ]
    }
   ],
   "source": [
    "import snscrape.modules.twitter as snstwl\n",
    "import pandas as pd\n",
    "import numpy as np\n",
    "\n",
    "keyword = input('Please Enter the keyword for search :   ')\n",
    "number = int(input('Enter the number of tweets to be scrapped  :  '))\n",
    "from_date = input('Enter from when :  ')\n",
    "to_date = input('Enter to when :  ')\n",
    "\n",
    "tweets_data = []\n",
    "\n",
    "for i, tweets in enumerate(snstwl.TwitterSearchScraper('{} since:{} until:{}'.format(keyword,from_date,to_date)).get_items()):\n",
    "    if i > number:\n",
    "        break\n",
    "\n",
    "    tweets_data.append([tweets.date, tweets.id, tweets.content, tweets.user.username, tweets.replyCount, tweets.retweetCount, tweets.lang.upper(), tweets.source, tweets.likeCount])\n",
    "\n",
    "tw_data = pd.DataFrame(tweets_data, columns = ['Date','ID','Content','Username','Reply_Count','Retweet_Count','Language','Source','Like_Count'])\n"
   ]
  },
  {
   "cell_type": "code",
   "execution_count": 3,
   "id": "7e966481",
   "metadata": {
    "scrolled": false
   },
   "outputs": [
    {
     "data": {
      "text/html": [
       "<div>\n",
       "<style scoped>\n",
       "    .dataframe tbody tr th:only-of-type {\n",
       "        vertical-align: middle;\n",
       "    }\n",
       "\n",
       "    .dataframe tbody tr th {\n",
       "        vertical-align: top;\n",
       "    }\n",
       "\n",
       "    .dataframe thead th {\n",
       "        text-align: right;\n",
       "    }\n",
       "</style>\n",
       "<table border=\"1\" class=\"dataframe\">\n",
       "  <thead>\n",
       "    <tr style=\"text-align: right;\">\n",
       "      <th></th>\n",
       "      <th>Date</th>\n",
       "      <th>ID</th>\n",
       "      <th>Content</th>\n",
       "      <th>Username</th>\n",
       "      <th>Reply_Count</th>\n",
       "      <th>Retweet_Count</th>\n",
       "      <th>Language</th>\n",
       "      <th>Source</th>\n",
       "      <th>Like_Count</th>\n",
       "    </tr>\n",
       "  </thead>\n",
       "  <tbody>\n",
       "    <tr>\n",
       "      <th>0</th>\n",
       "      <td>2023-01-25 20:46:48+00:00</td>\n",
       "      <td>1618349689535082497</td>\n",
       "      <td>@YCP175 @PawanKalyan @naralokesh @ysjagan Iyya...</td>\n",
       "      <td>Kajjikay</td>\n",
       "      <td>0</td>\n",
       "      <td>0</td>\n",
       "      <td>ET</td>\n",
       "      <td>&lt;a href=\"http://twitter.com/download/android\" ...</td>\n",
       "      <td>0</td>\n",
       "    </tr>\n",
       "    <tr>\n",
       "      <th>1</th>\n",
       "      <td>2023-01-25 19:23:08+00:00</td>\n",
       "      <td>1618328637459292161</td>\n",
       "      <td>@Harshavamshi143 #Vaarahi @PawanKalyan  seems ...</td>\n",
       "      <td>FreakySreeky_14</td>\n",
       "      <td>0</td>\n",
       "      <td>0</td>\n",
       "      <td>EN</td>\n",
       "      <td>&lt;a href=\"http://twitter.com/download/android\" ...</td>\n",
       "      <td>0</td>\n",
       "    </tr>\n",
       "    <tr>\n",
       "      <th>2</th>\n",
       "      <td>2023-01-25 18:16:01+00:00</td>\n",
       "      <td>1618311745118035969</td>\n",
       "      <td>@DevendraReddyG @PawanKalyan Onuku onuku pudut...</td>\n",
       "      <td>praveenpravin49</td>\n",
       "      <td>0</td>\n",
       "      <td>0</td>\n",
       "      <td>ET</td>\n",
       "      <td>&lt;a href=\"http://twitter.com/download/android\" ...</td>\n",
       "      <td>0</td>\n",
       "    </tr>\n",
       "    <tr>\n",
       "      <th>3</th>\n",
       "      <td>2023-01-25 17:41:06+00:00</td>\n",
       "      <td>1618302957589770246</td>\n",
       "      <td>11:11\\nAll Izz well\\nSarvejanaa Sukhino Bhavan...</td>\n",
       "      <td>Urs_Truly_MK</td>\n",
       "      <td>0</td>\n",
       "      <td>0</td>\n",
       "      <td>FI</td>\n",
       "      <td>&lt;a href=\"http://twitter.com/download/android\" ...</td>\n",
       "      <td>0</td>\n",
       "    </tr>\n",
       "    <tr>\n",
       "      <th>4</th>\n",
       "      <td>2023-01-25 17:06:17+00:00</td>\n",
       "      <td>1618294196741472257</td>\n",
       "      <td>https://t.co/kfZUKRmS8G\\nareal views of vaarah...</td>\n",
       "      <td>praneethsardar</td>\n",
       "      <td>0</td>\n",
       "      <td>0</td>\n",
       "      <td>EN</td>\n",
       "      <td>&lt;a href=\"https://mobile.twitter.com\" rel=\"nofo...</td>\n",
       "      <td>0</td>\n",
       "    </tr>\n",
       "    <tr>\n",
       "      <th>...</th>\n",
       "      <td>...</td>\n",
       "      <td>...</td>\n",
       "      <td>...</td>\n",
       "      <td>...</td>\n",
       "      <td>...</td>\n",
       "      <td>...</td>\n",
       "      <td>...</td>\n",
       "      <td>...</td>\n",
       "      <td>...</td>\n",
       "    </tr>\n",
       "    <tr>\n",
       "      <th>96</th>\n",
       "      <td>2023-01-25 05:53:26+00:00</td>\n",
       "      <td>1618124866863128576</td>\n",
       "      <td>ఎవడో ఆంధ్ర వస్తే వారాహి ఆపుత అన్నాడు ఎక్కడ్రా ...</td>\n",
       "      <td>amalapurampkfc</td>\n",
       "      <td>0</td>\n",
       "      <td>40</td>\n",
       "      <td>TE</td>\n",
       "      <td>&lt;a href=\"http://twitter.com/download/android\" ...</td>\n",
       "      <td>85</td>\n",
       "    </tr>\n",
       "    <tr>\n",
       "      <th>97</th>\n",
       "      <td>2023-01-25 05:48:26+00:00</td>\n",
       "      <td>1618123609540788225</td>\n",
       "      <td>Bazawada gadda Kalyan Babu adda ❤️‍🔥🔥\\n@Rusthu...</td>\n",
       "      <td>PawanKa42080150</td>\n",
       "      <td>0</td>\n",
       "      <td>1</td>\n",
       "      <td>IN</td>\n",
       "      <td>&lt;a href=\"http://twitter.com/download/android\" ...</td>\n",
       "      <td>1</td>\n",
       "    </tr>\n",
       "    <tr>\n",
       "      <th>98</th>\n",
       "      <td>2023-01-25 05:47:28+00:00</td>\n",
       "      <td>1618123367017779201</td>\n",
       "      <td>@RGVzoomin @PawanKalyan Adhi varaham kadhu ra ...</td>\n",
       "      <td>AshokRe78135155</td>\n",
       "      <td>0</td>\n",
       "      <td>0</td>\n",
       "      <td>HI</td>\n",
       "      <td>&lt;a href=\"http://twitter.com/download/android\" ...</td>\n",
       "      <td>0</td>\n",
       "    </tr>\n",
       "    <tr>\n",
       "      <th>99</th>\n",
       "      <td>2023-01-25 05:44:49+00:00</td>\n",
       "      <td>1618122700974850048</td>\n",
       "      <td>@Plant_Warrior Okka adugu dooram lo oscor</td>\n",
       "      <td>shanmugam56</td>\n",
       "      <td>0</td>\n",
       "      <td>0</td>\n",
       "      <td>ET</td>\n",
       "      <td>&lt;a href=\"http://twitter.com/download/android\" ...</td>\n",
       "      <td>0</td>\n",
       "    </tr>\n",
       "    <tr>\n",
       "      <th>100</th>\n",
       "      <td>2023-01-25 05:39:33+00:00</td>\n",
       "      <td>1618121375490912256</td>\n",
       "      <td>Aa annagari laaga avdhamani \\n  Okadu party pe...</td>\n",
       "      <td>vamsi999_</td>\n",
       "      <td>0</td>\n",
       "      <td>0</td>\n",
       "      <td>ET</td>\n",
       "      <td>&lt;a href=\"http://twitter.com/download/iphone\" r...</td>\n",
       "      <td>0</td>\n",
       "    </tr>\n",
       "  </tbody>\n",
       "</table>\n",
       "<p>101 rows × 9 columns</p>\n",
       "</div>"
      ],
      "text/plain": [
       "                         Date                   ID  \\\n",
       "0   2023-01-25 20:46:48+00:00  1618349689535082497   \n",
       "1   2023-01-25 19:23:08+00:00  1618328637459292161   \n",
       "2   2023-01-25 18:16:01+00:00  1618311745118035969   \n",
       "3   2023-01-25 17:41:06+00:00  1618302957589770246   \n",
       "4   2023-01-25 17:06:17+00:00  1618294196741472257   \n",
       "..                        ...                  ...   \n",
       "96  2023-01-25 05:53:26+00:00  1618124866863128576   \n",
       "97  2023-01-25 05:48:26+00:00  1618123609540788225   \n",
       "98  2023-01-25 05:47:28+00:00  1618123367017779201   \n",
       "99  2023-01-25 05:44:49+00:00  1618122700974850048   \n",
       "100 2023-01-25 05:39:33+00:00  1618121375490912256   \n",
       "\n",
       "                                               Content         Username  \\\n",
       "0    @YCP175 @PawanKalyan @naralokesh @ysjagan Iyya...         Kajjikay   \n",
       "1    @Harshavamshi143 #Vaarahi @PawanKalyan  seems ...  FreakySreeky_14   \n",
       "2    @DevendraReddyG @PawanKalyan Onuku onuku pudut...  praveenpravin49   \n",
       "3    11:11\\nAll Izz well\\nSarvejanaa Sukhino Bhavan...     Urs_Truly_MK   \n",
       "4    https://t.co/kfZUKRmS8G\\nareal views of vaarah...   praneethsardar   \n",
       "..                                                 ...              ...   \n",
       "96   ఎవడో ఆంధ్ర వస్తే వారాహి ఆపుత అన్నాడు ఎక్కడ్రా ...   amalapurampkfc   \n",
       "97   Bazawada gadda Kalyan Babu adda ❤️‍🔥🔥\\n@Rusthu...  PawanKa42080150   \n",
       "98   @RGVzoomin @PawanKalyan Adhi varaham kadhu ra ...  AshokRe78135155   \n",
       "99           @Plant_Warrior Okka adugu dooram lo oscor      shanmugam56   \n",
       "100  Aa annagari laaga avdhamani \\n  Okadu party pe...        vamsi999_   \n",
       "\n",
       "     Reply_Count  Retweet_Count Language  \\\n",
       "0              0              0       ET   \n",
       "1              0              0       EN   \n",
       "2              0              0       ET   \n",
       "3              0              0       FI   \n",
       "4              0              0       EN   \n",
       "..           ...            ...      ...   \n",
       "96             0             40       TE   \n",
       "97             0              1       IN   \n",
       "98             0              0       HI   \n",
       "99             0              0       ET   \n",
       "100            0              0       ET   \n",
       "\n",
       "                                                Source  Like_Count  \n",
       "0    <a href=\"http://twitter.com/download/android\" ...           0  \n",
       "1    <a href=\"http://twitter.com/download/android\" ...           0  \n",
       "2    <a href=\"http://twitter.com/download/android\" ...           0  \n",
       "3    <a href=\"http://twitter.com/download/android\" ...           0  \n",
       "4    <a href=\"https://mobile.twitter.com\" rel=\"nofo...           0  \n",
       "..                                                 ...         ...  \n",
       "96   <a href=\"http://twitter.com/download/android\" ...          85  \n",
       "97   <a href=\"http://twitter.com/download/android\" ...           1  \n",
       "98   <a href=\"http://twitter.com/download/android\" ...           0  \n",
       "99   <a href=\"http://twitter.com/download/android\" ...           0  \n",
       "100  <a href=\"http://twitter.com/download/iphone\" r...           0  \n",
       "\n",
       "[101 rows x 9 columns]"
      ]
     },
     "execution_count": 3,
     "metadata": {},
     "output_type": "execute_result"
    }
   ],
   "source": [
    "tw_data"
   ]
  },
  {
   "cell_type": "code",
   "execution_count": 7,
   "id": "bc98457d",
   "metadata": {},
   "outputs": [],
   "source": [
    "a = {}\n",
    "a['ID'] = list(tw_data.iloc[:,1])"
   ]
  },
  {
   "cell_type": "code",
   "execution_count": 5,
   "id": "0bba6214",
   "metadata": {},
   "outputs": [
    {
     "name": "stdout",
     "output_type": "stream",
     "text": [
      "<class 'pandas._libs.tslibs.timestamps.Timestamp'>\n",
      "<class 'numpy.int64'>\n",
      "<class 'str'>\n",
      "<class 'str'>\n",
      "<class 'numpy.int64'>\n",
      "<class 'numpy.int64'>\n",
      "<class 'str'>\n",
      "<class 'str'>\n",
      "<class 'numpy.int64'>\n"
     ]
    }
   ],
   "source": [
    "for i in tw_data.columns:\n",
    "    print(type(tw_data[i][0]))"
   ]
  },
  {
   "cell_type": "code",
   "execution_count": 8,
   "id": "1c6dd21f",
   "metadata": {},
   "outputs": [
    {
     "name": "stdout",
     "output_type": "stream",
     "text": [
      "2023-01-26 19:07:08.488583\n"
     ]
    }
   ],
   "source": [
    "from datetime import datetime\n",
    "print(str(datetime.now()))"
   ]
  },
  {
   "cell_type": "code",
   "execution_count": 38,
   "id": "fdf30f52",
   "metadata": {},
   "outputs": [
    {
     "name": "stdout",
     "output_type": "stream",
     "text": [
      "Vaarahi@2023-01-26 19:14:43.060451\n"
     ]
    }
   ],
   "source": [
    "print(keyword+'@'+str(datetime.now()))"
   ]
  },
  {
   "cell_type": "code",
   "execution_count": 10,
   "id": "9ed0ee35",
   "metadata": {},
   "outputs": [
    {
     "data": {
      "text/plain": [
       "str"
      ]
     },
     "execution_count": 10,
     "metadata": {},
     "output_type": "execute_result"
    }
   ],
   "source": [
    "type(tw_data['Content'][0])"
   ]
  },
  {
   "cell_type": "code",
   "execution_count": 11,
   "id": "289fd8af",
   "metadata": {},
   "outputs": [],
   "source": [
    "data_dic = []\n",
    "for i in range(len(tw_data.index)):\n",
    "    col_data = {}\n",
    "    for j in range(len(tw_data.columns)):\n",
    "        if type(tw_data.iloc[i,j]) == np.int64:\n",
    "            col_data[tw_data.columns[j]] = int(tw_data.iloc[i,j])\n",
    "        elif type(tw_data.iloc[i,j]) == str:\n",
    "            col_data[tw_data.columns[j]] = str(tw_data.iloc[i,j])\n",
    "        else:\n",
    "            col_data[tw_data.columns[j]] = tw_data.iloc[i,j]\n",
    "    data_dic.append(col_data)"
   ]
  },
  {
   "cell_type": "code",
   "execution_count": 13,
   "id": "60d383b1",
   "metadata": {},
   "outputs": [
    {
     "data": {
      "text/plain": [
       "str"
      ]
     },
     "execution_count": 13,
     "metadata": {},
     "output_type": "execute_result"
    }
   ],
   "source": [
    "type(data_dic[0]['Username'])"
   ]
  },
  {
   "cell_type": "code",
   "execution_count": 14,
   "id": "b85a20b8",
   "metadata": {},
   "outputs": [
    {
     "name": "stdout",
     "output_type": "stream",
     "text": [
      "['Analytics', 'Assesment', 'Crudoperations', 'admin', 'config', 'database1', 'fresh', 'guvi', 'hassan', 'local', 'lookup', 'marks', 'mydatabase', 'order', 'pizza', 'test']\n"
     ]
    }
   ],
   "source": [
    "import pymongo\n",
    "client = pymongo.MongoClient(f\"mongodb://127.0.0.1:27017/\")\n",
    "print(client.list_database_names())"
   ]
  },
  {
   "cell_type": "code",
   "execution_count": 15,
   "id": "4398bf04",
   "metadata": {},
   "outputs": [
    {
     "data": {
      "text/plain": [
       "<pymongo.results.InsertOneResult at 0x2de7fb0b3a0>"
      ]
     },
     "execution_count": 15,
     "metadata": {},
     "output_type": "execute_result"
    }
   ],
   "source": [
    "m = {}\n",
    "m[keyword+'@'+str(datetime.now())]= data_dic\n",
    "mydb = client['Twitter']\n",
    "my_col = mydb['Twi_scr_da']\n",
    "my_col.insert_one(m)"
   ]
  },
  {
   "cell_type": "code",
   "execution_count": 42,
   "id": "ff3505f8",
   "metadata": {},
   "outputs": [],
   "source": [
    "my_col.drop()"
   ]
  },
  {
   "cell_type": "code",
   "execution_count": 43,
   "id": "392c1c45",
   "metadata": {},
   "outputs": [
    {
     "ename": "TypeError",
     "evalue": "index 'Vaarahi@2023-01-26 19:14:43.060451' cannot be applied to Cursor instances",
     "output_type": "error",
     "traceback": [
      "\u001b[1;31m---------------------------------------------------------------------------\u001b[0m",
      "\u001b[1;31mTypeError\u001b[0m                                 Traceback (most recent call last)",
      "Cell \u001b[1;32mIn [43], line 3\u001b[0m\n\u001b[0;32m      1\u001b[0m \u001b[38;5;28;01mfor\u001b[39;00m i \u001b[38;5;129;01min\u001b[39;00m my_col\u001b[38;5;241m.\u001b[39mfind({},{\u001b[38;5;124m'\u001b[39m\u001b[38;5;124mVaarahi@2023-01-26 19:14:43.060451\u001b[39m\u001b[38;5;124m'\u001b[39m:\u001b[38;5;241m0\u001b[39m}):\n\u001b[0;32m      2\u001b[0m     x \u001b[38;5;241m=\u001b[39m i\n\u001b[1;32m----> 3\u001b[0m \u001b[38;5;28mprint\u001b[39m(\u001b[43mx\u001b[49m\u001b[43m[\u001b[49m\u001b[38;5;124;43m'\u001b[39;49m\u001b[38;5;124;43mVaarahi@2023-01-26 19:14:43.060451\u001b[39;49m\u001b[38;5;124;43m'\u001b[39;49m\u001b[43m]\u001b[49m[\u001b[38;5;241m0\u001b[39m])\n",
      "File \u001b[1;32m~\\AppData\\Local\\Programs\\Python\\Python310\\lib\\site-packages\\pymongo\\cursor.py:761\u001b[0m, in \u001b[0;36mCursor.__getitem__\u001b[1;34m(self, index)\u001b[0m\n\u001b[0;32m    759\u001b[0m         \u001b[38;5;28;01mreturn\u001b[39;00m doc\n\u001b[0;32m    760\u001b[0m     \u001b[38;5;28;01mraise\u001b[39;00m \u001b[38;5;167;01mIndexError\u001b[39;00m(\u001b[38;5;124m\"\u001b[39m\u001b[38;5;124mno such item for Cursor instance\u001b[39m\u001b[38;5;124m\"\u001b[39m)\n\u001b[1;32m--> 761\u001b[0m \u001b[38;5;28;01mraise\u001b[39;00m \u001b[38;5;167;01mTypeError\u001b[39;00m(\u001b[38;5;124m\"\u001b[39m\u001b[38;5;124mindex \u001b[39m\u001b[38;5;132;01m%r\u001b[39;00m\u001b[38;5;124m cannot be applied to Cursor instances\u001b[39m\u001b[38;5;124m\"\u001b[39m \u001b[38;5;241m%\u001b[39m index)\n",
      "\u001b[1;31mTypeError\u001b[0m: index 'Vaarahi@2023-01-26 19:14:43.060451' cannot be applied to Cursor instances"
     ]
    }
   ],
   "source": [
    "for i in my_col.find({},{'Vaarahi@2023-01-26 19:14:43.060451':0}):\n",
    "    x = i\n",
    "print(x['Vaarahi@2023-01-26 19:14:43.060451'][0])"
   ]
  },
  {
   "cell_type": "code",
   "execution_count": null,
   "id": "30df4386",
   "metadata": {},
   "outputs": [],
   "source": []
  },
  {
   "cell_type": "code",
   "execution_count": null,
   "id": "32dc1137",
   "metadata": {},
   "outputs": [],
   "source": []
  },
  {
   "cell_type": "code",
   "execution_count": null,
   "id": "f0fa6e87",
   "metadata": {},
   "outputs": [],
   "source": []
  },
  {
   "cell_type": "code",
   "execution_count": null,
   "id": "cf102a95",
   "metadata": {},
   "outputs": [],
   "source": []
  },
  {
   "cell_type": "code",
   "execution_count": null,
   "id": "5706f810",
   "metadata": {},
   "outputs": [],
   "source": []
  }
 ],
 "metadata": {
  "kernelspec": {
   "display_name": "Python 3 (ipykernel)",
   "language": "python",
   "name": "python3"
  },
  "language_info": {
   "codemirror_mode": {
    "name": "ipython",
    "version": 3
   },
   "file_extension": ".py",
   "mimetype": "text/x-python",
   "name": "python",
   "nbconvert_exporter": "python",
   "pygments_lexer": "ipython3",
   "version": "3.10.7"
  }
 },
 "nbformat": 4,
 "nbformat_minor": 5
}
